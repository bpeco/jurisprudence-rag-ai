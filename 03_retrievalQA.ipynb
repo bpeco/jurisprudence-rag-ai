{
 "cells": [
  {
   "cell_type": "code",
   "execution_count": 18,
   "id": "d882d9df",
   "metadata": {},
   "outputs": [],
   "source": [
    "from langchain_openai import ChatOpenAI\n",
    "from langchain.chains import RetrievalQA\n",
    "from langchain.schema.runnable import RunnablePassthrough\n",
    "from langchain.chains.combine_documents import create_stuff_documents_chain\n",
    "from langchain.chains import create_retrieval_chain\n",
    "from langchain.vectorstores import Chroma\n",
    "from langchain.chains import LLMChain\n",
    "from langchain.embeddings import HuggingFaceEmbeddings\n",
    "from langchain.storage import InMemoryStore\n",
    "from langchain.retrievers.multi_vector import MultiVectorRetriever\n",
    "from langchain.prompts import PromptTemplate\n",
    "import pickle\n"
   ]
  },
  {
   "cell_type": "code",
   "execution_count": 28,
   "id": "ce41e193",
   "metadata": {},
   "outputs": [],
   "source": [
    "embedding = HuggingFaceEmbeddings(model_name=\"sentence-transformers/all-MiniLM-L6-v2\")\n",
    "vectorstore = Chroma(\n",
    "    embedding_function=embedding,\n",
    "    persist_directory=\"./multivector_chroma_db_001\"\n",
    ")\n",
    "\n",
    "with open(\"parent_documents.pkl\", \"rb\") as f:\n",
    "    parent_documents = pickle.load(f)\n",
    "\n",
    "\n",
    "# 🔹 Reconstruís el store\n",
    "store = InMemoryStore()\n",
    "store.mset([(d.metadata[\"id\"], d) for d in parent_documents])\n",
    "\n",
    "# 🔹 Reconstruís el retriever\n",
    "retriever = MultiVectorRetriever(\n",
    "    vectorstore=vectorstore,\n",
    "    docstore=store,\n",
    "    id_key=\"parent_id\",\n",
    "    search_kwargs={\"k\": 3} # reminder: top 3 similitud para los chunks resumidos, no para los fallos completos\n",
    ")"
   ]
  },
  {
   "cell_type": "code",
   "execution_count": null,
   "id": "b007b07b",
   "metadata": {},
   "outputs": [],
   "source": [
    "# Define LLM\n",
    "\n",
    "llm = ChatOpenAI(model='o4-mini')\n",
    "\n",
    "prompt_template = PromptTemplate.from_template(\"\"\"\n",
    "Sos un asistente jurídico. Usá exclusivamente el contenido de los documentos proporcionados para responder la consulta.\n",
    "No inventes ni infieras información que no esté presente en los textos.\n",
    "Si no hay jurisprudencia relevante, indicá claramente que no la encontrás.\n",
    "Tampoco menciones ningún documento si no encontraste juridisprudencia relevante.\n",
    "\n",
    "Documentos:\n",
    "{context}\n",
    "\n",
    "Pregunta:\n",
    "{question}\n",
    "\n",
    "Respuesta:\n",
    "\"\"\")\n",
    "\n",
    "# Cadena que usa esos campos\n",
    "combine_docs_chain = create_stuff_documents_chain(llm=llm, prompt=prompt_template)\n",
    "\n",
    "# Este paso une todo: retriever + documents + fields necesarios\n",
    "retrieval_chain = (\n",
    "    RunnablePassthrough.assign( # toma el input lo trasnforma en un diccionaio\n",
    "        question=lambda x: x[\"input\"],  # copia input → question\n",
    "        context=lambda x: retriever.invoke(x[\"input\"])    #  resultado del retriever.invoke(...), es decir, documentos relevantes.\n",
    "    ) # el resultado de esto, pasa a 'combine_docs_chain'\n",
    "    | combine_docs_chain # usa el prompt, y completa 'context' y 'question' para responder la pregunta\n",
    ")\n",
    "\n",
    "response = retrieval_chain.invoke({\"input\": \"¿Qué precedentes existen sobre el control de razonabilidad de multas administrativas en casos de aseguradoras?\"})\n",
    "\n",
    "print(response)"
   ]
  },
  {
   "cell_type": "code",
   "execution_count": null,
   "id": "1ef3dae8",
   "metadata": {},
   "outputs": [],
   "source": []
  }
 ],
 "metadata": {
  "kernelspec": {
   "display_name": ".lawyer-agent-venv",
   "language": "python",
   "name": "python3"
  },
  "language_info": {
   "codemirror_mode": {
    "name": "ipython",
    "version": 3
   },
   "file_extension": ".py",
   "mimetype": "text/x-python",
   "name": "python",
   "nbconvert_exporter": "python",
   "pygments_lexer": "ipython3",
   "version": "3.12.3"
  }
 },
 "nbformat": 4,
 "nbformat_minor": 5
}
