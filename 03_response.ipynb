{
 "cells": [
  {
   "cell_type": "code",
   "execution_count": 1,
   "id": "d882d9df",
   "metadata": {},
   "outputs": [],
   "source": [
    "from langchain_openai import ChatOpenAI\n",
    "from langchain.chains import RetrievalQA\n",
    "from langchain.schema.runnable import RunnablePassthrough\n",
    "from langchain.chains.combine_documents import create_stuff_documents_chain\n",
    "from langchain.chains import create_retrieval_chain\n",
    "from langchain.vectorstores import Chroma\n",
    "from langchain.chains import LLMChain\n",
    "from langchain.embeddings import HuggingFaceEmbeddings\n",
    "from langchain.storage import InMemoryStore\n",
    "from langchain.retrievers.multi_vector import MultiVectorRetriever\n",
    "from langchain.prompts import PromptTemplate\n",
    "import pickle\n"
   ]
  },
  {
   "cell_type": "code",
   "execution_count": 2,
   "id": "ce41e193",
   "metadata": {},
   "outputs": [
    {
     "name": "stderr",
     "output_type": "stream",
     "text": [
      "/var/folders/pg/nt5xcr_n6rd6qh7kjj9bnkpr0000gp/T/ipykernel_3731/244047182.py:1: LangChainDeprecationWarning: The class `HuggingFaceEmbeddings` was deprecated in LangChain 0.2.2 and will be removed in 1.0. An updated version of the class exists in the :class:`~langchain-huggingface package and should be used instead. To use it run `pip install -U :class:`~langchain-huggingface` and import as `from :class:`~langchain_huggingface import HuggingFaceEmbeddings``.\n",
      "  embedding = HuggingFaceEmbeddings(model_name=\"sentence-transformers/all-MiniLM-L6-v2\")\n",
      "/var/folders/pg/nt5xcr_n6rd6qh7kjj9bnkpr0000gp/T/ipykernel_3731/244047182.py:2: LangChainDeprecationWarning: The class `Chroma` was deprecated in LangChain 0.2.9 and will be removed in 1.0. An updated version of the class exists in the :class:`~langchain-chroma package and should be used instead. To use it run `pip install -U :class:`~langchain-chroma` and import as `from :class:`~langchain_chroma import Chroma``.\n",
      "  vectorstore = Chroma(\n"
     ]
    }
   ],
   "source": [
    "embedding = HuggingFaceEmbeddings(model_name=\"sentence-transformers/all-MiniLM-L6-v2\")\n",
    "vectorstore = Chroma(\n",
    "    embedding_function=embedding,\n",
    "    persist_directory=\"./multivector_chroma_db_001\"\n",
    ")\n",
    "\n",
    "with open(\"parent_documents.pkl\", \"rb\") as f:\n",
    "    parent_documents = pickle.load(f)\n",
    "\n",
    "\n",
    "# 🔹 Reconstruís el store\n",
    "store = InMemoryStore()\n",
    "store.mset([(d.metadata[\"id\"], d) for d in parent_documents])\n",
    "\n",
    "# 🔹 Reconstruís el retriever\n",
    "retriever = MultiVectorRetriever(\n",
    "    vectorstore=vectorstore,\n",
    "    docstore=store,\n",
    "    id_key=\"parent_id\",\n",
    "    search_kwargs={\"k\": 3} # reminder: top 3 similitud para los chunks resumidos, no para los fallos completos\n",
    ")"
   ]
  },
  {
   "cell_type": "code",
   "execution_count": null,
   "id": "67f8945d",
   "metadata": {},
   "outputs": [],
   "source": []
  },
  {
   "cell_type": "markdown",
   "id": "a751f8a7",
   "metadata": {},
   "source": [
    "### Answer generation + Retrieve documents"
   ]
  },
  {
   "cell_type": "code",
   "execution_count": null,
   "id": "1ef3dae8",
   "metadata": {},
   "outputs": [
    {
     "name": "stdout",
     "output_type": "stream",
     "text": [
      "\n",
      "📄 Documentos relevantes encontrados:\n",
      "\n",
      "--- Documento 1 ---\n",
      "Tribunal: CAMARA COMERCIAL - SALA C\n",
      "Sala: SALA C\n",
      "Expediente: COM 014267/2024/CA002\n",
      "Caratula: BASSI, GRACIELA NORA c/ SOCIEDAD ITALIANA DE BENEFICENCIA EN BUENOS AIRES s/AMPARO\n",
      "Fecha de Sentencia: 08/04/2025\n",
      "\n",
      "--- Documento 2 ---\n",
      "Tribunal: CAMARA COMERCIAL - SALA F\n",
      "Sala: SALA F\n",
      "Expediente: COM 000247/2024/CA001\n",
      "Caratula: FCA COMPAÑIA FINANCIERA S.A. c/ YGLESIAS RODRIGUES, CARLOS RUBEM s/SECUESTRO PRENDARIO\n",
      "Fecha de Sentencia: 01/03/2024\n",
      "\n",
      "--- Documento 3 ---\n",
      "Tribunal: CAMARA COMERCIAL - SALA A\n",
      "Sala: SALA A\n",
      "Expediente: COM 015450/2021/22/CA037 - CA036\n",
      "Caratula: CURTIEMBRES FONSECA SA s/ CONCURSO PREVENTIVO s/INCIDENTE DE REVISION DE CREDITO POR ERCROS S.A.\n",
      "Fecha de Sentencia: 16/04/2024\n",
      "\n",
      "🧠 Respuesta del modelo:\n",
      "Sí. En la causa “FCA Compañía Financiera S.A. c/Yglesias Rodrigues s/secuestro prendario” (Expte. COM 247/2024, Cámara Comercial, Sala F, sentencia de 1.3.2024) se sostuvo que el art. 39 de la Ley de Prenda (D.L. 15.348/46) resulta incompatible con la Ley 24.240 de Defensa del Consumidor y con el art. 42 de la Constitución Nacional. En ese fallo la Sala F consideró que el secuestro directo del bien prendado, sin previa intervención o audiencia del consumidor, contradice garantías constitucionales y protectorias del derecho de consumo, por lo que declaró inaplicable (dispensada) la cláusula prevista en dicho artículo. No es una declaración de inconstitucionalidad directa, pero sí un tratamiento que, por su jerarquía constitucional y de orden público, deja sin efecto la aplicación del art. 39 de la Ley de Prenda en las relaciones de consumo.\n"
     ]
    }
   ],
   "source": [
    "# Define LLM\n",
    "llm = ChatOpenAI(model='o4-mini')\n",
    "\n",
    "prompt_template = PromptTemplate.from_template(\"\"\"\n",
    "Sos un asistente jurídico.\n",
    "Usá exclusivamente el contenido de los documentos proporcionados para responder la consulta.\n",
    "Si encontrás documentos relacionados, proporcioná la información correspondiente de dichos documentos.\n",
    "No inventes ni infieras información que no esté presente en los textos.\n",
    "Si no hay jurisprudencia relevante, indicá claramente que no la encontrás.\n",
    "Tampoco menciones ningún documento si no encontraste juridisprudencia relevante.\n",
    "\n",
    "Documentos:\n",
    "{context}\n",
    "\n",
    "Pregunta:\n",
    "{question}\n",
    "\n",
    "Respuesta:\n",
    "\"\"\")\n",
    "\n",
    "combine_docs_chain = create_stuff_documents_chain(llm=llm, prompt=prompt_template)\n",
    "\n",
    "input_text = \"¿Existe algún fallo que trate la inconstitucionalidad de la ley de prenda?\"\n",
    "\n",
    "# Step 1: retrieve relevant documents\n",
    "retrieved_docs = retriever.invoke(input_text)\n",
    "\n",
    "# Step 2: chain to analyze retrieved documents with the question\n",
    "response = combine_docs_chain.invoke({\n",
    "    \"question\": input_text,\n",
    "    \"context\": retrieved_docs\n",
    "})\n",
    "\n",
    "# Model response\n",
    "print(\"\\n🧠 Respuesta del modelo:\")\n",
    "print(response)\n",
    "\n",
    "# Metadata\n",
    "print(\"\\n📄 Documentos relevantes encontrados:\")\n",
    "for i, doc in enumerate(retrieved_docs):\n",
    "    print(f\"\\n--- Documento {i+1} ---\")\n",
    "    print(\"Tribunal:\", doc.metadata['Tribunal'])\n",
    "    print(\"Sala:\", doc.metadata['Sala'])\n",
    "    print(\"Expediente:\", doc.metadata['Expediente'])\n",
    "    print(\"Caratula:\", doc.metadata['Caratula'])\n",
    "    print(\"Fecha de Sentencia:\", doc.metadata['FechaSentencia'])\n"
   ]
  },
  {
   "cell_type": "code",
   "execution_count": null,
   "id": "bcb46dd2",
   "metadata": {},
   "outputs": [],
   "source": []
  },
  {
   "cell_type": "code",
   "execution_count": null,
   "id": "b5d2371e",
   "metadata": {},
   "outputs": [],
   "source": []
  }
 ],
 "metadata": {
  "kernelspec": {
   "display_name": ".lawyer-agent-venv",
   "language": "python",
   "name": "python3"
  },
  "language_info": {
   "codemirror_mode": {
    "name": "ipython",
    "version": 3
   },
   "file_extension": ".py",
   "mimetype": "text/x-python",
   "name": "python",
   "nbconvert_exporter": "python",
   "pygments_lexer": "ipython3",
   "version": "3.12.3"
  }
 },
 "nbformat": 4,
 "nbformat_minor": 5
}
