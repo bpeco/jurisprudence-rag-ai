{
 "cells": [
  {
   "cell_type": "markdown",
   "id": "ae9b7380",
   "metadata": {},
   "source": [
    "# Generate Chunks\n",
    "\n",
    "This notebook loads previously generated documents, splits them into smaller chunks, and builds a multi-representation index."
   ]
  },
  {
   "cell_type": "markdown",
   "id": "a0087376",
   "metadata": {},
   "source": [
    "## 1. Imports"
   ]
  },
  {
   "cell_type": "code",
   "execution_count": null,
   "id": "225bd891",
   "metadata": {},
   "outputs": [
    {
     "name": "stdout",
     "output_type": "stream",
     "text": [
      "Numpy: 1.26.4\n",
      "Torch: 2.2.2\n",
      "Numpy from: /Users/Bauti/Development/lawyerAgent-AI/.lawyer-agent-venv/lib/python3.12/site-packages/numpy/__init__.py\n",
      "Torch from: /Users/Bauti/Development/lawyerAgent-AI/.lawyer-agent-venv/lib/python3.12/site-packages/torch/__init__.py\n"
     ]
    }
   ],
   "source": [
    "from langchain.text_splitter import RecursiveCharacterTextSplitter\n",
    "import json\n",
    "from langchain.docstore.document import Document\n",
    "from collections import defaultdict\n",
    "from tqdm import tqdm\n",
    "from langchain.vectorstores import Chroma\n",
    "from langchain.embeddings import HuggingFaceEmbeddings\n",
    "from langchain.retrievers.multi_vector import MultiVectorRetriever\n",
    "from langchain.storage import InMemoryStore\n",
    "from langchain.docstore.document import Document\n",
    "import uuid\n",
    "from tqdm import tqdm\n",
    "from langchain.vectorstores import Chroma\n",
    "from langchain.embeddings import HuggingFaceEmbeddings\n",
    "from langchain.retrievers.multi_vector import MultiVectorRetriever\n",
    "from langchain.storage import InMemoryStore  # o otro como FAISSStore, RedisStore, etc.\n",
    "\n",
    "import numpy\n",
    "import torch\n",
    "print(\"Numpy:\", numpy.__version__)\n",
    "print(\"Torch:\", torch.__version__)\n",
    "print(\"Numpy from:\", numpy.__file__)\n",
    "print(\"Torch from:\", torch.__file__)\n",
    "\n",
    "\n",
    "import pickle"
   ]
  },
  {
   "cell_type": "markdown",
   "id": "ba6c2d48",
   "metadata": {},
   "source": [
    "---"
   ]
  },
  {
   "cell_type": "markdown",
   "id": "40d327d3",
   "metadata": {},
   "source": [
    "## 2. Load and Merge Documents\n",
    "\n",
    "- Read the JSONL file containing page-level extracts.\n",
    "- Although each page was saved as a separate Document, every page begins with a common identifier for its full judicial decision.\n",
    "- We therefore merge pages back into complete documents rather than chunking at the page level.\n",
    "- By using a multi-representation index, we preserve the full context of each decision during retrieval."
   ]
  },
  {
   "cell_type": "code",
   "execution_count": 3,
   "id": "65ddb43a",
   "metadata": {},
   "outputs": [],
   "source": [
    "documents = []\n",
    "with open(\"data/documents_fallos.jsonl\", \"r\", encoding=\"utf-8\") as f:\n",
    "    for line in f:\n",
    "        entry = json.loads(line)\n",
    "        doc = Document(\n",
    "            page_content=entry[\"page_content\"],\n",
    "            metadata=entry.get(\"metadata\", {})\n",
    "        )\n",
    "        documents.append(doc)"
   ]
  },
  {
   "cell_type": "code",
   "execution_count": 4,
   "id": "8c327b4a",
   "metadata": {},
   "outputs": [],
   "source": [
    "grouped = defaultdict(list)\n",
    "for doc in documents:\n",
    "    fallo_id = doc.page_content.split(\"#\")[1]  # \"#38414262#...\" → \"38414262\"\n",
    "    grouped[fallo_id].append(doc)"
   ]
  },
  {
   "cell_type": "code",
   "execution_count": 5,
   "id": "ee4bd2dd",
   "metadata": {},
   "outputs": [],
   "source": [
    "merged_documents = []\n",
    "for fallo_id, pages in grouped.items():\n",
    "    pages_sorted = sorted(pages, key=lambda x: x.metadata.get(\"page\", 0))\n",
    "    full_text = \"\\n\".join(p.page_content for p in pages_sorted)\n",
    "    full_metadata = pages_sorted[0].metadata.copy()  # Asumimos que todos los metadatos son iguales\n",
    "    merged_documents.append(Document(page_content=full_text, metadata=full_metadata))\n"
   ]
  },
  {
   "cell_type": "code",
   "execution_count": 6,
   "id": "f3c88c8e",
   "metadata": {},
   "outputs": [
    {
     "data": {
      "text/plain": [
       "4091"
      ]
     },
     "execution_count": 6,
     "metadata": {},
     "output_type": "execute_result"
    }
   ],
   "source": [
    "len(merged_documents)"
   ]
  },
  {
   "cell_type": "code",
   "execution_count": null,
   "id": "756d2d48",
   "metadata": {},
   "outputs": [
    {
     "data": {
      "text/plain": [
       "'Poder Judicial de la Nación\\nCÁMARA COMERCIAL - SALA F\\nEn Buenos Aires a los cinco días del mes de mayo de dos mil veinticinco,\\nreunidos los Señores Jueces de Cámara en la Sala de Acuerdos fueron\\ntraídos para conocer los autos “TORRES NOELI AYELEN C/CALEDONIA\\n EXPTE. N°\\nCOMPAÑÍA ARGENTINA DE SEGUROS SA S/ ORDINARIO”\\nCOM 1110/2023; en los que al practicarse la desinsaculación que ordena el\\nart. 268 del Código Procesal Civil y Comercial de la Nación resultó que la\\nvotación debía tener lugar en el siguiente orden: Vocalía 16, Vocalía 18 y\\nVocalía 17. Dado que la Vocalía Nº 18 se halla actualmente vacante,\\nintervendrán la Dra. Alejandra N. Tevez y el Dr. Ernesto Lucchelli (art. 109\\nRJN).\\nSe deja constancia que las referencias de las fechas de las\\nactuaciones y las fojas de cada una de ellas son las que surgen de los\\nregistros digitales del expediente.\\nEstudiados los autos la Cámara plantea la siguiente cuestión a\\nresolver:\\n¿Es arreglada a derecho la sentencia apelada de fs. 242/249?\\nLa Sra. Juez de Cámara Dra. Alejandra N. Tevez dice:\\nI. Antecedentes de la causa\\nA \\na. \\nfs. 2/6 \\n inició demanda contra \\nNoeli Ayelen Torres\\nSeguros SA (en adelante “Caledonia”),\\nCaledonia Compañía Argentina de \\na fin de obtener el cobro de la suma de $ 1.500.000, con más intereses y\\ncostas.\\nManifestó que cierto vehículo de titularidad de Jonathan\\nEzequiel Ortega, se encontraba asegurado a su nombre.\\nRelató que el 18.1.22 dejó estacionado el rodado a las 19:20\\nhs. y cuando regresó a las 20 hs. constató que aquel había sido sustraído,\\npor lo que realizó inmediatamente la denuncia penal por hurto y formalizó la\\nFecha de firma: 05/05/2025\\nFirmado por: ERNESTO LUCCHELLI, JUEZ DE CAMARA\\nFirmado por: ALEJANDRA NOEMI TEVEZ, PRESIDENTA DE LA SALA F \\nFirmado por: MARIA EUGENIA SOTO, PROSECRETARIA LETRADA DE CAMARA\\n#37472420#453814599#20250430151701046\\ndenuncia del siniestro ante la demandada bajo el n° 152651. Dijo que\\npresentó, luego, toda la documentación requerida.\\nRefirió que arribó a un acuerdo con la demandada y suscribió\\nuna nota de aceptación el 17.2.22 en la que se le reconocía una\\nindemnización por la suma de $ 487.622, a abonarse mediante\\ntransferencia bancaria a su cuenta. Sin embargo –afirmó- ello nunca ocurrió.\\nExplicó que ante dicho incumplimiento se firmó un nuevo\\nconvenio actualizándose el valor del vehículo y reconociéndosele la suma\\nde $ 552.422; pero dicho acuerdo también fue cumplido, por lo que inició la\\ninstancia de mediación obligatoria.\\nAgregó que el incumplimiento contractual de la demandada le\\ngeneró diversos daños y perjuicios.\\nReclamó en concepto de daño material el valor del vehículo\\nque estimó en el momento de la demanda en la suma de $ 1.000.000,\\nprivación de uso por $ 100.000 y daño moral por $ 400.000.\\nFundó en derecho su reclamo y ofreció prueba.\\n A \\nb.\\nfs. 41/51 \\n contestó demanda.\\nCaledonia\\nFormuló una negativa genérica y luego pormenorizada de los\\nhechos. Reconoció el carácter de asegurada de la actora al 18.1.22, del\\nautomotor Marca Chevrolet corsa 1.6 5 P GL AA dominio CEJ 815,\\nmediante Póliza N° 2001617; y desconoció la documentación acompañada.\\nNegó la procedencia de los daños reclamados.\\nEn relación al daño material pretendido equivalente al valor\\nactual del rodado dijo que, para establecer el monto de la indemnización y\\nde resultar ello procedente, corresponderá estar al valor de venta al público\\nal contado de un automotor como el siniestrado teniéndose como límite la\\nsuma asegurada de dicha unidad.\\nFecha de firma: 05/05/2025\\nFirmado por: ERNESTO LUCCHELLI, JUEZ DE CAMARA\\nFirmado por: ALEJANDRA NOEMI TEVEZ, PRESIDENTA DE LA SALA F \\nFirmado por: MARIA EUGENIA SOTO, PROSECRETARIA LETRADA DE CAMARA\\n#37472420#453814599#20250430151701046\\nPoder Judicial de la Nación\\nCÁMARA COMERCIAL - SALA F\\nAfirmó que la suma asegurada constituye, en los seguros de\\ndaños patrimoniales, el límite máximo por el cual la aseguradora se obliga a\\nresponder.\\nSostuvo, respecto a la privación de uso, que de acuerdo con la\\ncláusula CG-CO 8.1 no indemniza dicho concepto; y resistió la procedencia\\ndel daño moral pedido solicitando su desestimación.\\nRequirió, en caso de que se la condene, que se aplique la\\nexcepción prevista por el plenario “Samudio” y que se fije una tasa de\\ninterés moratorio del 6% anual o la pasiva del Banco Central de la\\nRepública Argentina.\\nOfreció prueba y fundó en derecho.\\nII. La sentencia de primera instancia\\nEl \\ndictó \\na quo \\nsentencia a fs. 242/249.\\nHizo lugar a la demanda y condenó a Caledonia a pagar a la\\nactora la suma de $ 906.146,40 con más sus intereses y costas.\\nPara así decidir, el magistrado inicialmente estimó que no\\nexiste controversia en punto a la existencia de la cobertura contratada a\\nfavor de la actora.\\nSeguidamente, estimó que Caledonia resulta responsable por\\nel incumplimiento contractual y por la falta de pago del siniestro acontecido,\\npor lo que admitió el daño material reclamado hasta el límite de la cobertura\\npactada que fijó en la suma de $ 597.146,40 correspondiente al valor total\\nasegurado más la cláusula de ajuste automático del 20% con más intereses\\na la TABNA desde la mora el 4.3.22.\\nReconoció la privación de uso por la suma de $ 100.000 y\\nadmitió el daño moral que justipreció en $ 209.000, equivalentes al 30% de\\nFecha de firma: 05/05/2025\\nFirmado por: ERNESTO LUCCHELLI, JUEZ DE CAMARA\\nFirmado por: ALEJANDRA NOEMI TEVEZ, PRESIDENTA DE LA SALA F \\nFirmado por: MARIA EUGENIA SOTO, PROSECRETARIA LETRADA DE CAMARA\\n#37472420#453814599#20250430151701046\\nlos restantes rubros reconocidos. Ambos con más los intereses reconocidos\\npara el daño material.\\nFinalmente rechazó el planteo de la demandada de\\npluspetición inexcusable y le impuso las costas en su condición de vencida.\\nIII. El recurso\\nApeló la actora en fs. 250. Su recurso fue concedido\\nlibremente a fs. 251.\\nLos fundamentos corren a fs. 257/259 y no merecieron\\nrespuesta.\\nA fs. 264 se llamaron autos para dictar sentencia y a fs. 265 se\\npracticó el sorteo previsto en el CPr. 268.\\nIV. Los agravios\\nLas quejas de la actora transcurren por los siguientes carriles:\\ni) el monto admitido por el daño material y ii) el monto por el cual prosperó\\nel daño moral.\\nV. La solución\\na. Aclaraciones preliminares\\na.1. Diré liminarmente que no atenderé todos los planteos\\nrecursivos sino sólo aquellos que estime esenciales y decisivos para dictar\\nel veredicto en la causa (conf. CSJN, “Altamirano, Ramón c/ Comisión\\nNacional de Energía Atómica”, del 13.11.86; íd., “Soñes, Raúl c/\\nAdministración Nacional de Aduanas”, del 12.2.87; íd.,: “Pons, María y otro”\\ndel 6.10.87; íd., “Stancato, Carmelo”, del 15.9.89; y Fallos, 221: 37; 222:\\n186; 226: 474; 228: 279; 233: 47; 234: 250; 243: 563; 247: 202; 310: 1162;\\nentre otros).\\nFecha de firma: 05/05/2025\\nFirmado por: ERNESTO LUCCHELLI, JUEZ DE CAMARA\\nFirmado por: ALEJANDRA NOEMI TEVEZ, PRESIDENTA DE LA SALA F \\nFirmado por: MARIA EUGENIA SOTO, PROSECRETARIA LETRADA DE CAMARA\\n#37472420#453814599#20250430151701046\\nPoder Judicial de la Nación\\nCÁMARA COMERCIAL - SALA F\\nAsí porque los magistrados no están obligados a seguir a las\\npartes en cada una de las argumentaciones, ni a ponderar una por una y\\nexhaustivamente todas las pruebas agregadas a la causa, sino sólo\\naquellas estimadas conducentes para fundar sus conclusiones (CSJN,\\nFallos: 272: 225; 274: 113; 276: 132; 200: 320; esta Sala, mi voto, \\n,\\nin re\\n“Bocci Jorge Humberto c/ Inmobiliaria Prisa S.A. s/ ordinario” del 10.10.19,\\nentre muchos otros).\\na.2. En atención a cuanto fuera juzgado en el veredicto de\\ngrado y dado el tenor de los agravios elevados, se encuentra firme en esta\\nAlzada y con carácter de cosa juzgada que la demandada resulta\\nresponsable por el incumplimiento de la cobertura del seguro, debiendo\\nindemnizar a su adversaria.\\nb. El daño material. Sus alcances\\nb.1. Se agravió la actora de que no se condenara a la\\naseguradora al pago del importe equivalente al valor en el mercado del\\nautomóvil asegurado.\\nDijo que el resarcimiento del daño consiste en la reposición de\\nlas cosas al estado anterior en la medida de lo posible, siendo titular de un\\nvehículo que al momento del siniestro tenía 45.000 kms. y equipo de GNC.\\nExplicó que al momento de la interposición de la demanda el\\nvalor estimado del vehículo era de $ 1.000.000 por lo que reclamó en ese\\nmomento aquel monto; y señaló que, al practicarse la prueba pericial\\nmecánica, su valor oscilaba entre $ 1.640.000 y $ 1.800.000.\\nAfirmó que, con el monto reconocido en el veredicto de grado\\n-límite de cobertura con más intereses- no sólo no podrá comprar un\\nvehículo similar al que tenía, sino que no podrá comprar absolutamente\\nnada.\\nFecha de firma: 05/05/2025\\nFirmado por: ERNESTO LUCCHELLI, JUEZ DE CAMARA\\nFirmado por: ALEJANDRA NOEMI TEVEZ, PRESIDENTA DE LA SALA F \\nFirmado por: MARIA EUGENIA SOTO, PROSECRETARIA LETRADA DE CAMARA\\n#37472420#453814599#20250430151701046\\nb.2. Debo señalar que tuve oportunidad de pronunciarme en\\nsituaciones de análogas características a la que aquí se presenta. Me\\nrefiero al voto que emití ante esta Sala F el 7.8.20 en los autos “Fortunato\\nHerminia c/ Federación Patronal Seguros SA s/ ordinario”, postura que\\nreedité luego al ser llamada a integrar la Sala B el 25.8.20 en la causa \\n“Assadourian Oscar Joaquín c/ Caja de Seguros SA s/ ordinario” y al emitir\\nmis votos preopinante en “Figueroa Hugo Ezequiel c/ Sancor Cooperativa\\nde Seguros LTDA s/ ordinario” del 8.2.22 y, más recientemente, “Pestille\\nMarcela Sandra c/ La Meridional Compañía Argentina de Seguros SA s/\\nsumarísimo” del 1.11.24, “Plastina Sandra María c/ Federación Patronal\\nSeguros SA s/ ordinario” del 29.11.24 y “Novero María Sandra c/ Triunfo\\nCooperativa Argentina de Seguros LTDA. y otro s/ ordinario” del 28.2.25.\\nSeñalé en aquellos casos que en el derecho de seguros el\\npago de los daños se rige esencialmente por el principio indemnizatorio, que\\nes el capital en juego del contrato.\\nEse principio halla su traducción cabal en la ley de seguros en\\nlas disposiciones de los artículos 62, 63, 65, 68, etc. Conforme a él, el\\nasegurado no puede obtener un lucro sino sólo el resarcimiento del daño\\nsufrido (Halperin-Morandi, “Seguros”, T. II, 2º edición, editorial Depalma,\\npág. 559 y ss., CNCom., Sala F, “Carbone Catalina c/ Berkley Internacional\\nSeguros s/ ordinario”, del 3.11.11, íd., “Fernández Jorge Eduardo c/ La Caja\\nDe Seguros SA s/ordinario”, del 26.11.15).\\nSobre tal base, se sostuvo que el pago hasta el límite máximo\\nporta, entre otros fundamentos, el de la relación de equivalencia existente\\nentre el premio y el riesgo.\\nY que dicha relación es clave de bóveda en el vínculo\\nasegurativo ya que, desde una perspectiva económica, se ha concebido\\nuna técnica o recurso de compensación de riesgos para alcanzar la\\neliminación o neutralización de las consecuencias económicamente\\ndesfavorables de los eventos dañosos.\\nFecha de firma: 05/05/2025\\nFirmado por: ERNESTO LUCCHELLI, JUEZ DE CAMARA\\nFirmado por: ALEJANDRA NOEMI TEVEZ, PRESIDENTA DE LA SALA F \\nFirmado por: MARIA EUGENIA SOTO, PROSECRETARIA LETRADA DE CAMARA\\n#37472420#453814599#20250430151701046\\nPoder Judicial de la Nación\\nCÁMARA COMERCIAL - SALA F\\nDe allí la improponibilidad de toda pretensión que tenga por\\nobjeto percibir una suma mayor que la prevista en la póliza (conf. Stiglitz,\\nRubén S.; “Derecho de Seguros”, tomo III, 5° edición, pág. 107/8, ed. La\\nLey, Buenos Aires, 2008).\\nEllo, con sustento en que esa prestación por carecer de\\ncontrapartida en la obligación principal del asegurado comprometería el\\nfondo técnico afectado al pago de los siniestros de los demás asegurados.\\nTal era el criterio y la postura asumida por la Sala \"F\" de este\\nTribunal de Alzada, que integro, en diversos precedentes (\"Fernández Rey\\nMaría Ximena y otro c/ La Meridional Compañía de Seguros S.A. s/\\nordinario\", del 16.2.17, entre otros).\\nAhora bien.\\nEn los citados precedentes “Fortunato”, “Assadourian” y\\n“Figueroa” consideré que los elementos allí colectados me persuadían de la\\nnecesidad de efectuar un nuevo examen de la cuestión, entendimiento que\\nplasmé más recientemente en mis votos preopinantes en los precedentes\\n“Pestille”, “Plastina” y “Novero”.\\nEllo, partiendo de la premisa de que el límite máximo que la\\nindemnización puede alcanzar, conforme los términos de la LSeg. 61, no\\ndebe resultar de aplicación automática, sino que su análisis debe\\ncontemplar las particularidades que cada caso pueda presentar.\\nBajo tales parámetros habré de formular mi voto con los\\nalcances delimitados al comienzo de esta ponencia.\\nb.3. En el caso no existe controversia en cuanto a la\\ncelebración del contrato de seguro instrumentado bajo póliza N° 2001617, la\\nocurrencia del siniestro, su oportuna denuncia a la aseguradora y su\\nresponsabilidad indemnizatoria.\\nFecha de firma: 05/05/2025\\nFirmado por: ERNESTO LUCCHELLI, JUEZ DE CAMARA\\nFirmado por: ALEJANDRA NOEMI TEVEZ, PRESIDENTA DE LA SALA F \\nFirmado por: MARIA EUGENIA SOTO, PROSECRETARIA LETRADA DE CAMARA\\n#37472420#453814599#20250430151701046\\nPor otro lado, destaco que el valor asegurado del rodado al\\ntiempo en que se contrató fue establecido en $ 420.000 y el accesorio GNC\\nen $ 65.622 con una cláusula de ajuste automático del 20% (v. frente de\\npóliza), es decir $ 582.746,40; y que, conforme los términos vertidos en el\\nveredicto de grado, dicho monto actualizado desde la mora establecida en\\nel 4.3.22 por medio de la liquidación de los intereses devengados conforme\\nla tasa activa del Banco de la Nación Argentina alcanza al tiempo de este\\npronunciamiento a $ 2.035.829,99\\no un vehículo similar y con la\\n, cuand\\nantigüedad que poseía al momento del siniestro ostenta en el mercado un\\nvalor que ronda los $ 6.000.000.\\nb.4. En este punto cabe preguntarnos, ¿Qué ocurre cuando se\\npretende superar el límite de la suma asegurada, con sustento en la mora\\nde la aseguradora en el cumplimiento de su obligación indemnizatoria\\ndurante el tiempo transcurrido de juicio?\\nJuzgo -tal como lo realicé en los precedentes “Fortunato”,\\n“Assadourian”, “Figueroa”, “Pestille”, “Plastina” y “Novero” ya citados- que\\nante ello y teniendo en especial consideración las particularidades que\\ncaracterizan al caso de autos, debe primar la determinación de la solución\\nque mejor se ajuste a tales especiales circunstancias. A tal fin, aprecio\\nadecuada la aplicación de la denominada “desindexación retroactiva”\\nexpuesta por Waldo Sobrino en su obra “Seguros y el Código Civil y\\nComercial, su relación con la Responsabilidad Civil, el Derecho de\\nConsumo, la Constitución Nacional y los Tratados Internacionales” (Tomo I,\\npág. 616 y sig., La Ley, 2016).\\nEllo pues, su resultado no sólo denota la solución más justa,\\nsino que también es la que mejor se adecúa a los términos pretendidos al\\nmomento de contratar. Así pues, adapta la obligación indemnizatoria con\\nsimilares alcances a los del momento en que aquella debió cumplirse.\\nb.5. Seguidamente expondré las razones que, luego de un\\nprofundo estudio del tema, me llevan a concluir del modo anticipado.\\nFecha de firma: 05/05/2025\\nFirmado por: ERNESTO LUCCHELLI, JUEZ DE CAMARA\\nFirmado por: ALEJANDRA NOEMI TEVEZ, PRESIDENTA DE LA SALA F \\nFirmado por: MARIA EUGENIA SOTO, PROSECRETARIA LETRADA DE CAMARA\\n#37472420#453814599#20250430151701046\\nPoder Judicial de la Nación\\nCÁMARA COMERCIAL - SALA F\\nTal como señaló esta Sala, in re, “Gorodisch Diego s/ concurso\\npreventivo” del 12.7.18, siguiendo el lineamiento emanado de nuestro\\nMáximo Tribunal, el mandato constitucional de afianzar la justicia o de\\nderivar racionalmente desde todo el derecho vigente la solución justa para\\nel caso no importa otra cosa que la recta determinación de lo justo en\\nconcreto, y ello sólo se puede lograr ejerciendo la virtud de la prudencia\\nanimada con vivo espíritu en la realización efectiva del derecho en las\\nsituaciones reales que se presentan a los magistrados, lo que exige\\nconjugar los principios enunciados en la ley con los elementos fácticos del\\ncaso, cuyo consciente desconocimiento no se compadece con la misión de\\nadministrar justicia (CSJN., in re “Oilher Juan C. c/ Arenillas Oscar N.” del\\n23.12.80, \\n 302:1611).\\nFallos\\nAhora bien.\\nNo puedo obviar las contingencias económicas que sufre\\nnuestro país desde ya hace varios años. Como puede observarse, la brecha\\nentre el monto asegurado actualizado y el valor de un bien de esas\\ncaracterísticas en el mercado es considerable.\\nTal como hubiera razonado la estimada colega de la Sala B,\\nDra. Matilde Ballerini al emitir su voto el 22.12.20 en los autos “Chirino\\nCarlos Norberto C/ Caja De Seguros S.A S/ Ordinario”, producto del\\nincumplimiento de la aseguradora y sus años de mora, el actor vio cómo su\\ncapital asegurado perdió el valor adquisitivo que es de esperar sí tenía al\\nmomento en que se produjo el siniestro, tornando sumamente complejo, por\\nno decir imposible, reponer el bien asegurado, cuando -se insiste- de haber\\nhonrado la defendida en tiempo y forma su obligación el accionante hubiera\\npodido acceder a la adquisición de un vehículo similar al que poseía.\\nDijo allí la citada magistrada -en razonamiento que comparto-\\nque la “suma asegurada” cumple la función que le es propia cuando la\\naseguradora hace honor a su obligación en tiempo también propio, esto es,\\nen el momento en el que, por haber sido previsto en el contrato o resultar de\\nFecha de firma: 05/05/2025\\nFirmado por: ERNESTO LUCCHELLI, JUEZ DE CAMARA\\nFirmado por: ALEJANDRA NOEMI TEVEZ, PRESIDENTA DE LA SALA F \\nFirmado por: MARIA EUGENIA SOTO, PROSECRETARIA LETRADA DE CAMARA\\n#37472420#453814599#20250430151701046\\nla ley, las partes han tenido en mira al cuantificar de ese modo el máximo\\nde la indemnización que, llegado el caso, habría de percibir el asegurado.\\nSostener que, en cambio, la compañía puede limitar su responsabilidad\\ncuando ella lleva -como ocurre en el caso- varios años en situación de\\nmora, es temperamento no sólo inconciliable con las más básicas normas\\nque rigen el derecho contractual en general y este contrato en particular,\\nsino también con las que regulan el enriquecimiento sin causa y las propias\\nde esa situación morosa.\\nNótese, por lo demás, el contrasentido que tal invocación\\naparejaría en el caso, en el que, más allá de la función jurídica que la\\nreferida “suma asegurada” está llamada a cumplir, lo cierto es que ella\\ntambién remite al valor en el que la misma aseguradora “tasa” el rodado a\\nefectos de cumplir con la finalidad -esencialmente reparadora- del contrato\\nque tratamos.\\nEn tales condiciones, y si a raíz de la mora esa suma ha\\nperdido toda virtualidad, forzoso es concluir que la compañía no puede\\natenerse a ese valor histórico y desactualizado para liberarse del\\ncompromiso asumido.\\nAdmitir lo contrario importaría tanto como permitirle extraer un\\nevidente provecho de su propio incumplimiento y prescindir del hecho de\\nque el reclamo respectivo no tiene por fuente a tal contrato, sino a la mora\\nen cumplirlo en la que la demandada ha incurrido.\\nEn la misma dirección se expidió la colega Sala C de esta\\nCámara de Apelaciones en lo Comercial -en su anterior conformación- (vgr.\\n“Cortasal Diego Fabian c/ Paraná SA de Seguros s/ Ordinario”, del 28.12\\n.17; “Tecma Montajes Industriales SA c/ Provincia Seguros S.A. s/\\nordinario”, del 6.9.19; “Zamora Medrano Luis Augusto c/ Orbis Compañía\\nArgentina de Seguros S.A. S/ Ordinario”, del 13.2.20; “Pérez Ben Federico\\nManuel c/ Caja de Seguros S.A. s/ ordinario”, del 21.5.20, entre otros).\\nFecha de firma: 05/05/2025\\nFirmado por: ERNESTO LUCCHELLI, JUEZ DE CAMARA\\nFirmado por: ALEJANDRA NOEMI TEVEZ, PRESIDENTA DE LA SALA F \\nFirmado por: MARIA EUGENIA SOTO, PROSECRETARIA LETRADA DE CAMARA\\n#37472420#453814599#20250430151701046\\nPoder Judicial de la Nación\\nCÁMARA COMERCIAL - SALA F\\nSe dijo allí que la mora de la demandada colocó a la\\ndemandante en la imposibilidad de contar con la indemnización que, a su\\nvez, le hubiera permitido adquirir un rodado similar al asegurado, de lo que\\nse deriva que lo que la aseguradora debe a su contratante es un valor\\n al que hubiera ingresado en el patrimonio de éste, si aquélla se\\nequivalente\\nlo hubiera entregado en tiempo.\\nSe concluyó, a la luz de la causa fin del contrato de seguro,\\nque hay una directa relación entre el bien asegurado y la obligación de la\\ncompañía, tan directa que la preexistencia de uno (ese bien) es concebida\\ncomo causa de la otra (obligación de cubrir su pérdida), naciendo de esa\\nrelación el llamado “interés asegurable” que es, precisamente, el objeto del\\ncontrato de seguro. Es así que, si el incumplimiento de la aseguradora privó\\na la actora de la posibilidad de contar con un bien al que tenía derecho, no\\npuede aquélla pretender que su obligación se circunscribe a entregar la\\nindemnización respectiva con más sus intereses.\\nAsimismo, sostuvo la Sala E que “sólo mediante la entrega de\\nuna suma que refleje el valor actualizado de un vehículo como el\\nsiniestrado, o similar si el mismo ya no fuera fabricado, se logrará en el caso\\nel cumplimiento del objeto del contrato de seguro que tiene como finalidad\\nesencial colocar al asegurado en la misma situación que en la que se\\n (en\\nhubiera encontrado si no hubiera sufrido el infortunio aquí analizado”\\nautos “Alferes Andujar Nahel Angel c/ Antártida Compañía Argentina de\\nSeguros SA s/ ordinario” del 26.9.23).\\nLo hasta aquí expuesto resulta a mi entender suficiente para\\nestimar la queja de la accionante sobre el tópico.\\nb.6. Añadiré, a riesgo de resultar reiterativa, que el valor\\nasegurado del vehículo al tiempo en que se contrató fue establecido en $\\n582.746,40 y que, dicho monto actualizado por medio de la liquidación de\\nFecha de firma: 05/05/2025\\nFirmado por: ERNESTO LUCCHELLI, JUEZ DE CAMARA\\nFirmado por: ALEJANDRA NOEMI TEVEZ, PRESIDENTA DE LA SALA F \\nFirmado por: MARIA EUGENIA SOTO, PROSECRETARIA LETRADA DE CAMARA\\n#37472420#453814599#20250430151701046\\nlos intereses devengados conforme la TABNA alcanza la suma de \\n$2.035.829,99  siendo que un rodado como el siniestrado a la fecha ostenta\\n,\\nen el mercado un valor aproximado de $ 6.000.000.\\nLo anterior resulta por demás demostrativo y elocuente en\\npunto a que la conducta renuente de la aseguradora en el cumplimiento\\noportuno de su obligación contractual se tradujo en un gravoso perjuicio\\npara la asegurada. Y ello excede el leal ejercicio de un derecho para\\ntornarse en una conducta por demás reprochable.\\nPor otro lado -y este no es un dato menor- es dable\\nconsiderar, tal como fuera dicho, que “Si la Aseguradora hubiera llegado a\\nun acuerdo transaccional con el accionante en los procesos de mediación o\\ncuando se inició el juicio, era probable que el monto de la suma asegurado\\nhubiera sido suficiente para pagar el reclamo y el asegurado muy\\n (Sobrino, Waldo, “Seguros\\nposiblemente no hubiera tenido ningún perjuicio”\\ny el Código Civil y Comercial, su relación con la Responsabilidad Civil, el\\nDerecho de Consumo, la Constitución Nacional y los Tratados\\nInternacionales”, Tomo I, La Ley, 2016, pág. 618).\\nb.7. Todo ello me lleva a postular la admisión de la queja de la\\nactora. Ello así, a los efectos de fijar la indemnización corresponderá\\nreconocer la suma necesaria para alcanzar el valor actual del vehículo\\nasegurado, la que resultará de tomar aquella que la demandada -o, en el\\ncaso particular, una compañía aseguradora similar- utiliza en la actualidad\\npara asegurar un vehículo de similares características al de la accionante, y\\nque al momento del pago posea la misma antigüedad que al tiempo del\\nsiniestro.\\nSi, dado el tiempo transcurrido, ese bien no fuera ya fabricado,\\nimportado o comercializado en el mercado local, deberá acudirse al valor\\nque se asigne a aquél que lo hubiera reemplazado o, en su defecto, al que\\nFecha de firma: 05/05/2025\\nFirmado por: ERNESTO LUCCHELLI, JUEZ DE CAMARA\\nFirmado por: ALEJANDRA NOEMI TEVEZ, PRESIDENTA DE LA SALA F \\nFirmado por: MARIA EUGENIA SOTO, PROSECRETARIA LETRADA DE CAMARA\\n#37472420#453814599#20250430151701046\\nPoder Judicial de la Nación\\nCÁMARA COMERCIAL - SALA F\\nse asemeje más al siniestrado; todo lo cual deberá ser informado por la\\nmisma demandada dentro del plazo de diez días desde el dictado del\\npresente pronunciamiento.\\nAsimismo, el hecho de que la demandada sea obligada a\\nentregar al actor un valor actualizado del que corresponde al vehículo no la\\nexonera de pagar aquellos intereses a consecuencia del retardo en el que\\nincurrió en ocasión de su estado de mora en el cumplimiento de su\\nobligación.\\nUn razonamiento en contrario conduciría al asistemático\\nresultado de dejar a la accionada en la misma situación que si hubiera\\ncumplido en tiempo, sin afrontar las consecuencias derivadas de su\\nmorosidad, cuando con su obrar antijurídico dilató el reconocimiento del\\nderecho de su asegurado. Es decir, no sólo adeuda la compañía el valor del\\nvehículo -actualizado- sino que además debe los intereses por la falta de\\npago en término del siniestro denunciado.\\nDe allí que corresponda la utilización de una tasa de interés\\nque compense el retardo en el cumplimiento de la obligación. Propondré por\\nello, en tanto con el procedimiento arriba dispuesto se determinará un valor\\nactual, la aplicación de una tasa pura, del 12% anual desde la mora y hasta\\nla fecha que se encuentre firme su determinación (confr. CSJN “Barrientos,\\nGabriela Alexandra y otros c/ Ocorso, Damián y otros s/ daños y perjuicios”\\n(acc. trán. c/ les. o muerte)”, del 15.10.24).\\nLo anterior, claro está, lo es sin perjuicio de los réditos que\\npudieran eventualmente devengarse en caso de no resultar abonada la\\ncondena en el plazo que se fijará para su cumplimiento, los que en tal\\nsupuesto se calcularán conforme la tasa activa del Banco de la Nación\\nArgentina, para sus operaciones de descuento de documentos a treinta días.\\nc. Daño moral\\nFecha de firma: 05/05/2025\\nFirmado por: ERNESTO LUCCHELLI, JUEZ DE CAMARA\\nFirmado por: ALEJANDRA NOEMI TEVEZ, PRESIDENTA DE LA SALA F \\nFirmado por: MARIA EUGENIA SOTO, PROSECRETARIA LETRADA DE CAMARA\\n#37472420#453814599#20250430151701046\\nc.1. Se agravió la actora del monto reconocido por el daño\\nmoral padecido.\\nc.2. Tengo dicho en numerosos precedentes que el daño\\nmoral es un perjuicio que lesiona los bienes más preciados de la persona\\nhumana, al alterar el equilibrio de espíritu, la paz, la tranquilidad, la\\nprivacidad.\\nEl agravio moral importa una lesión a las afecciones legítimas;\\nentre otras, la paz, la tranquilidad de espíritu, la libertad individual, el honor,\\nla integridad psíquica, los afectos familiares, etc. (conf. CNCom., Sala B, en\\nautos “Katsikaris A. c/ La Inmobiliaria Cía. de Seguros s/ ordinario”, del\\n12.8.86). No se reduce al \\n, pues involucra todo daño a\\npretium doloris\\nintereses jurídicos extrapatrimoniales (conf. CNCom., Sala B, en autos\\n“Galán Teresa c/ Transportes Automotores Riachuelo SA s/ sumario”, del\\n16.3.99).\\nSe trata de una lesión susceptible de causar lo que una aguda\\nfórmula ha llamado “modificaciones disvaliosas del espíritu” (v. Pizarro,\\nRamón Daniel - Vallespinos, Carlos Gustavo, “Instituciones de Derecho\\nPrivado”, Obligaciones, Hamurabi, Bs. As. 1999, t. 2, p. 641).\\nEsa modificación disvaliosa del espíritu -como claramente se\\nhubiera definido, v. Pizzaro, Daniel en “Reflexiones en torno al daño moral y\\nsu reparación”, JA del 17.9.86- no corresponde identificarla exclusivamente\\ncon el dolor, porque pueden suceder, como resultas de la interferencia\\nantijurídica, otras conmociones espirituales: la preocupación intensa,\\nangustia, aflicciones, la aguda irritación vivencial y otras alteraciones que,\\npor su grado, hieren razonablemente el equilibrio referido (conf. Mosset\\nIturraspe, Jorge, “Responsabilidad por Daños”, t. V, Rubinzal Culzoni, 1999,\\nps.53/4).\\nc.3. En orden a las obligaciones del proveedor y el daño moral\\ncabe señalar que: “el incumplimiento deviene de concretas obligaciones\\nimpuestas por la ley de defensa del consumidor (trato digno, arts. 8 bis y\\nFecha de firma: 05/05/2025\\nFirmado por: ERNESTO LUCCHELLI, JUEZ DE CAMARA\\nFirmado por: ALEJANDRA NOEMI TEVEZ, PRESIDENTA DE LA SALA F \\nFirmado por: MARIA EUGENIA SOTO, PROSECRETARIA LETRADA DE CAMARA\\n#37472420#453814599#20250430151701046\\nPoder Judicial de la Nación\\nCÁMARA COMERCIAL - SALA F\\nbuena fe contractual, art. 37 LDC), las que fueron transgredidas por la\\ndemandada a título de culpa grave (CCCN. 1724).”\\nLa doctrina apunta como presupuestos del daño moral que sea\\ncierto, personal del accionante, y derivar de la lesión a un interés suyo no\\nilegítimo y que el reclamante se vea legitimado sustancialmente.\\nEn lo que atañe a lo primero, el daño moral debe ser cierto y\\nno meramente conjetural, el que no es indemnizable; lo cual significa que\\ndebe mediar certidumbre en cuanto a su existencia misma.\\nSin embargo, esta exigencia de certeza del daño debe ser\\nadaptada al supuesto del daño moral posible en el sector del derecho del\\nconsumidor, dado que no se trata de un daño que pueda ser probado en\\nbase a pautas objetivas y materialmente verificables de acuerdo a las\\ncircunstancias del caso.\\nLos autores han sostenido que “se puede sufrir un daño moral\\n(afectación de los sentimientos) por causas contempladas en la LDC\\nespecíficamente, omisión de información; trato indigno; mera inclusión de\\ncláusulas abusivas, etc. y en segundo lugar, estas causas sólo pueden\\nconstituir una afectación de los sentimientos, es decir, daño moral autónomo\\n (Ghersi, Carlos, “Las relaciones en el derecho del\\ndel derecho económico”\\nconsumo especialmente la responsabilidad y el daño moral”, LLC2013\\n(marzo), 133).\\nEl carácter restrictivo que la jurisprudencia asigna a la\\nreparación de esta clase de perjuicio en materia contractual tiende\\nesencialmente a excluir las pretensiones insustanciales, basadas en las\\nsimples molestias que pueda ocasionar el incumplimiento del contrato (conf.\\nesta Sala, “Vásquez Gabriel Fernando c/ Cti PCS S.A. s/ ordinario”, del\\n23.3.10, con cita a Borda, Guillermo A., “La reforma del 1968 al Código\\nCivil”, Ed. Perrot, Bs. As., 1971, pág. 203).\\nFecha de firma: 05/05/2025\\nFirmado por: ERNESTO LUCCHELLI, JUEZ DE CAMARA\\nFirmado por: ALEJANDRA NOEMI TEVEZ, PRESIDENTA DE LA SALA F \\nFirmado por: MARIA EUGENIA SOTO, PROSECRETARIA LETRADA DE CAMARA\\n#37472420#453814599#20250430151701046\\nc.4. Bajo las premisas que refieren a la conceptualización del\\ndaño moral y ahora en punto a su prueba, el CCCN. 1744 dispone que “El\\ndaño debe ser acreditado por quien lo invoca, excepto que la ley lo impute o\\n.\\npresuma, o surja de notorio de los propios hechos”\\nResulta de difícil o imposible producción la prueba directa de\\neste daño al residir en lo más íntimo de la personalidad. De tal manera, su\\nmodo habitual de comprobación quedará ceñido a indicios y presunciones \\n.\\nhominis\\nAsí, a partir de la acreditación por vía directa de un hecho,\\npodrá inducirse indirectamente otro distinto, desconocido, a través de una\\nvaloración lógica del juzgador, basada en las reglas de la sana crítica (conf.\\nPizarro, Ramón Daniel, “Daño moral. Prevención. Reparación. Punición”,\\ned. Hammurabi, Buenos Aires, 2004, págs. 626/8).\\nEllo así, es posible inferir tal como quedó determinado en el\\nveredicto de grado la existencia del perjuicio reclamado a partir del obrar de\\nCaledonia, quien no cumplió oportunamente con su obligación de\\nindemnizar.\\nDesde dicha óptica se configura también el agravio moral que\\ndebe ser resarcido, sin que quepa sostener que tal descalificación pueda\\nconsiderarse una molestia normal de la vida negocial (v. Sala C, en \"La\\nLoggia Velia c/ Banco Itaú Argentina SA s/ ordinario\", del 2.5.01; \"Martín\\nJosé Luis c/ Banco Roberts SA s/ ordinario\", del 22.12.99; \"Rabinstein\\nRoberto Simón c/ Banque Nationale de París s/ ordinario\", del 5.3.04).\\nc.5. Finalmente, a fin de estimar su \\n, cabe acudir a la\\nquantum\\nfacultad estimativa conferida por el CPr. 165. Sobre dicha base encuentro\\nadecuado reconocer en concepto de daño moral la suma pretendida en la\\ndemanda de $ 400.000, que devengará intereses en los términos y con los\\nalcances establecidos en el veredicto de grado.\\nd. Una última consideración\\nFecha de firma: 05/05/2025\\nFirmado por: ERNESTO LUCCHELLI, JUEZ DE CAMARA\\nFirmado por: ALEJANDRA NOEMI TEVEZ, PRESIDENTA DE LA SALA F \\nFirmado por: MARIA EUGENIA SOTO, PROSECRETARIA LETRADA DE CAMARA\\n#37472420#453814599#20250430151701046\\nPoder Judicial de la Nación\\nCÁMARA COMERCIAL - SALA F\\nHabiendo tomado conocimiento que el 3.12.24 se decretó la\\nliquidación judicial de Caledonia en el marco del expediente N° COM\\n12081/2024 con posterioridad al sorteo de la presente causa (31.10.24),\\npropongo encomendar al magistrado de grado la adopción de las medidas\\npertinentes.\\nVI. Conclusión\\nPor los fundamentos expresados precedentemente, si mi voto\\nfuera compartido por mi distinguido colega del Tribunal, propongo al\\nAcuerdo: i) admitir el recurso de la actora con el alcance de establecer la\\nindemnización asegurativa de conformidad con lo dispuesto en los\\nconsiderandos V.b. y elevar el monto reconocido en concepto de daño\\nmoral a la suma de $ 400.000, ii) imponer las costas de Alzada a la\\ndemandada vencida, por virtud del principio objetivo de la derrota (CPr. 68) \\ny iii) en atención a la liquidación judicial de Caledonia decretada el 3.12.24\\n(expte. COM 12081/2024) encomendar al magistrado de primera instancia \\npara que adopte las medidas pertinentes.\\nEl Dr. Lucchelli dice:\\nAdhiero en lo sustancial a la solución propiciada por mi\\n1. \\ndistinguida colega, Dra. Alejandra Tevez en la ponencia que abrió el debate.\\nSin perjuicio de ello, formularé algunas precesiones en cuanto a las\\nindemnizaciones y al daño punitivo propuestos en el voto que antecede.\\n En primer lugar, coincido con el voto preopinante en\\n1.a.\\ncuanto a que en la especie no corresponde aplicar el límite de\\nresponsabilidad de la aseguradora contemplado en el art. 61 LS en función\\nde la mora de la demandada. Al igual que en el precedente “FORTUNATO\\nHERMINIA C/ FEDERACION PATRONAL SEGUROS S.A. S/ ORDINARIO”\\nEXPTE. N° COM 11109/2011, el límite del seguro a la suma asegurada no\\nresulta aplicable, pues la compañía aseguradora no ha cumplido sus\\nobligaciones en tiempo propio y se ha mantenido en mora. Recuerdo que la\\nFecha de firma: 05/05/2025\\nFirmado por: ERNESTO LUCCHELLI, JUEZ DE CAMARA\\nFirmado por: ALEJANDRA NOEMI TEVEZ, PRESIDENTA DE LA SALA F \\nFirmado por: MARIA EUGENIA SOTO, PROSECRETARIA LETRADA DE CAMARA\\n#37472420#453814599#20250430151701046\\ncláusula CG-RH 4.1 punto III de la póliza emitida por la demandada, la cual\\nfuera acompañada por la compañía de seguros, dispone: “Determinada la\\nexistencia de Robo o Hurto total, el Asegurador indemnizará el valor de\\nventa al público al contado en plaza al momento del siniestro de un vehículo\\nde igual marca, modelo y características, con más los impuestos, tasas y\\ncontribuciones que pudieran corresponder, todo ello hasta la suma\\nasegurada que consta en el Frente de Póliza.”. Sin embargo, y tal como\\nseñalé, dicho límite no puede ser admitido cuando, como ocurre en la\\nespecie, la aseguradora se encuentra en mora respecto de las obligaciones\\nasumidas en el contrato.\\nSentado lo anterior, aclaro que en este caso, encuentro\\nadecuado establecer la indemnización a abonar por la demandada, bajo la\\npóliza oportunamente contratada, según las pautas propuestas en el voto\\nprecedente, atento que es dificultoso determinar fehacientemente, a la fecha\\nde este pronunciamiento, el valor actual del vehículo que fuera asegurado.\\nEn cuanto a los réditos que se devenguen sobre los rubros\\nindemnizatorios, en tanto el valor del automotor se establecerá a valor\\npresente, en los términos que propone el voto precedente, para reparar el\\ndaño moral y la privación del automotor, concuerdo con mi distinguida\\ncolega en que los réditos sobre la indemnización deberán calcularse a la\\ntasa fija allí mencionada.\\n Asimismo, como he hecho en otros casos análogos al\\n2.\\npresente, dejo a salvo mi opinión respecto de las consideraciones relativas\\nal instituto previsto en el art. 52 bis de la LDC, en el sentido que si bien la\\nmulta por daño punitivo tiene naturaleza sancionatoria, su finalidad es\\neminentemente preventiva (cfr. Esta Sala, “Villanueva Maximiliano Alberto c/\\nFiat Auto de Ahorro Para Fines Determinados y otros s/ ordinario” del\\n9/05/19).\\nEn tal sentido y teniendo en cuenta lo expuesto, su aplicación\\ndebe ser de carácter excepcional y obedecer más a la gravedad del\\nFecha de firma: 05/05/2025\\nFirmado por: ERNESTO LUCCHELLI, JUEZ DE CAMARA\\nFirmado por: ALEJANDRA NOEMI TEVEZ, PRESIDENTA DE LA SALA F \\nFirmado por: MARIA EUGENIA SOTO, PROSECRETARIA LETRADA DE CAMARA\\n#37472420#453814599#20250430151701046\\nPoder Judicial de la Nación\\nCÁMARA COMERCIAL - SALA F\\ncomportamiento observado por el proveedor que al eventual beneficio que\\npudo haber obtenido de su incumplimiento, sin perjuicio de que este último\\nelemento también deba valorarse al momento de fijar la sanción.\\n Aclaro, a todo evento, que estas salvedades no implican\\n3.\\nuna modificación a la decisión propuesta en el voto que abrió el acuerdo.\\nAsí voto.\\nCon lo que terminó este Acuerdo que firmaron los señores\\nJueces de Cámara doctores:\\nAlejandra N. Tevez\\n \\nErnesto Lucchelli\\n \\nMaría Eugenia Soto\\nProsecretaria Letrada de Cámara\\n \\n \\nBuenos Aires, 5 de mayo de 2025.\\nY Vistos:\\n Por los fundamentos expresados en el Acuerdo que\\n.I\\nantecede, se resuelve: i) admitir el recurso de la actora con el alcance de\\nestablecer la indemnización asegurativa de conformidad con lo dispuesto en\\nlos considerandos V.b. y elevar el monto reconocido en concepto de daño\\nmoral a la suma de $ 400.000, ii) imponer las costas de Alzada a la\\ndemandada vencida, por virtud del principio objetivo de la derrota (CPr. 68)\\ny iii) en atención a la liquidación judicial de Caledonia decretada el 3.12.24\\nencomendar al magistrado de primera instancia \\n(expte. COM 12081/2024) \\npara que adopte las medidas pertinentes.\\nFecha de firma: 05/05/2025\\nFirmado por: ERNESTO LUCCHELLI, JUEZ DE CAMARA\\nFirmado por: ALEJANDRA NOEMI TEVEZ, PRESIDENTA DE LA SALA F \\nFirmado por: MARIA EUGENIA SOTO, PROSECRETARIA LETRADA DE CAMARA\\n#37472420#453814599#20250430151701046\\nNotifíquese a las partes (Ley N° 26.685, Ac. CSJN N°\\nII. \\n31/2011 art. 1° y N° 3/2015), cúmplase con la protocolización y publicación\\nde la presente decisión (cfr. Ley N° 26.856, art. 1; Ac. CSJN N° 15/13, N°\\n24/13 y N° 6/14) y devuélvase a la instancia de grado.\\nFirman los suscriptos por hallarse vacante la vocalía N° 18\\n(Art. 109 RJN).\\n \\nAlejandra N. Tevez\\n \\nErnesto Lucchelli\\n \\nMaría Eugenia Soto\\nProsecretaria Letrada de Cámara\\nFecha de firma: 05/05/2025\\nFirmado por: ERNESTO LUCCHELLI, JUEZ DE CAMARA\\nFirmado por: ALEJANDRA NOEMI TEVEZ, PRESIDENTA DE LA SALA F \\nFirmado por: MARIA EUGENIA SOTO, PROSECRETARIA LETRADA DE CAMARA'"
      ]
     },
     "execution_count": 7,
     "metadata": {},
     "output_type": "execute_result"
    }
   ],
   "source": [
    "for doc in merged_documents:\n",
    "    doc.page_content = doc.page_content.split('\\n', 1)[1] #removes identifier\n",
    "\n",
    "merged_documents[0].page_content"
   ]
  },
  {
   "cell_type": "markdown",
   "id": "98f2efe0",
   "metadata": {},
   "source": [
    "---"
   ]
  },
  {
   "cell_type": "markdown",
   "id": "732ce925",
   "metadata": {},
   "source": [
    "## 3. Generate Multi-Representation Indexing"
   ]
  },
  {
   "cell_type": "code",
   "execution_count": null,
   "id": "c659b298",
   "metadata": {},
   "outputs": [],
   "source": [
    "multivector_documents = []\n",
    "parent_documents = []\n",
    "\n",
    "for i, doc in enumerate(merged_documents):\n",
    "    full_text = doc.page_content\n",
    "    parent_id = str(uuid.uuid4())  # Un ID único para este fallo\n",
    "    metadata_base = doc.metadata.copy()\n",
    "    metadata_base[\"parent_id\"] = parent_id\n",
    "\n",
    "    # 1. Full representation\n",
    "    multivector_documents.append(Document(\n",
    "        page_content=full_text,\n",
    "        metadata={**metadata_base, \"representation\": \"full_text\"}\n",
    "    ))\n",
    "\n",
    "    # 2. Intro representation\n",
    "    multivector_documents.append(Document(\n",
    "        page_content=full_text[:4000],\n",
    "        metadata={**metadata_base, \"representation\": \"intro\"}\n",
    "    ))\n",
    "\n",
    "    # 3. Resolution representation\n",
    "    multivector_documents.append(Document(\n",
    "        page_content=full_text[-4000:],\n",
    "        metadata={**metadata_base, \"representation\": \"resolucion\"}\n",
    "    ))\n",
    "\n",
    "    # Parent document\n",
    "    parent_documents.append(Document(\n",
    "        page_content=full_text,\n",
    "        metadata={\"id\": parent_id, **doc.metadata}\n",
    "    ))\n",
    "\n",
    "\n",
    "# Parents will be used to generate the response after retrieving relevant chunks\n",
    "with open(\"parent_documents.pkl\", \"wb\") as f:\n",
    "    pickle.dump(parent_documents, f)"
   ]
  },
  {
   "cell_type": "code",
   "execution_count": 15,
   "id": "c4cc992a",
   "metadata": {},
   "outputs": [],
   "source": [
    "with open(\"parent_documents.pkl\", \"wb\") as f:\n",
    "    pickle.dump(parent_documents, f)"
   ]
  },
  {
   "cell_type": "code",
   "execution_count": 9,
   "id": "5f2b4c3c",
   "metadata": {},
   "outputs": [
    {
     "name": "stdout",
     "output_type": "stream",
     "text": [
      "380 documentos tienen más de 20k caracteres\n"
     ]
    }
   ],
   "source": [
    "long_docs = [doc for doc in multivector_documents if len(doc.page_content) > 20000]\n",
    "print(f\"{len(long_docs)} documentos tienen más de 20k caracteres\")"
   ]
  },
  {
   "cell_type": "code",
   "execution_count": 10,
   "id": "4ff233af",
   "metadata": {},
   "outputs": [],
   "source": [
    "MAX_CHARS = 15000\n",
    "cleaned_docs = [doc for doc in multivector_documents if len(doc.page_content) <= MAX_CHARS]"
   ]
  },
  {
   "cell_type": "markdown",
   "id": "965ea469",
   "metadata": {},
   "source": [
    "---"
   ]
  },
  {
   "cell_type": "markdown",
   "id": "216a4c84",
   "metadata": {},
   "source": [
    "## 4. Embeddings, Vector DB and Retriever"
   ]
  },
  {
   "cell_type": "code",
   "execution_count": null,
   "id": "bb3a2c97",
   "metadata": {},
   "outputs": [
    {
     "name": "stderr",
     "output_type": "stream",
     "text": [
      "/var/folders/pg/nt5xcr_n6rd6qh7kjj9bnkpr0000gp/T/ipykernel_6450/2259186535.py:26: LangChainDeprecationWarning: Since Chroma 0.4.x the manual persistence method is no longer supported as docs are automatically persisted.\n",
      "  vectorstore.persist()\n"
     ]
    }
   ],
   "source": [
    "embedding = HuggingFaceEmbeddings(\n",
    "    model_name=\"sentence-transformers/all-MiniLM-L6-v2\"\n",
    ")\n",
    "\n",
    "# Inicializás el vectorstore\n",
    "vectorstore = Chroma(\n",
    "    embedding_function=embedding,\n",
    "    persist_directory=\"./multivector_chroma_db_001\"\n",
    ")\n",
    "\n",
    "# 🔹 Agregás los documentos multivector\n",
    "vectorstore.add_documents(multivector_documents)\n",
    "\n",
    "# Store para documentos padres (los que se muestran como respuesta)\n",
    "store = InMemoryStore()\n",
    "store.mset([(d.metadata[\"id\"], d) for d in parent_documents])\n",
    "\n",
    "# 🔹 Definís el retriever\n",
    "retriever = MultiVectorRetriever(\n",
    "    vectorstore=vectorstore,\n",
    "    docstore=store,\n",
    "    id_key=\"parent_id\",\n",
    "    search_kwargs={\"k\": 3}\n",
    ")\n",
    "\n",
    "# 🔹 Guardás la base\n",
    "vectorstore.persist()"
   ]
  },
  {
   "cell_type": "code",
   "execution_count": null,
   "id": "6b96977e",
   "metadata": {},
   "outputs": [],
   "source": []
  }
 ],
 "metadata": {
  "kernelspec": {
   "display_name": ".lawyer-agent-venv",
   "language": "python",
   "name": "python3"
  },
  "language_info": {
   "codemirror_mode": {
    "name": "ipython",
    "version": 3
   },
   "file_extension": ".py",
   "mimetype": "text/x-python",
   "name": "python",
   "nbconvert_exporter": "python",
   "pygments_lexer": "ipython3",
   "version": "3.12.3"
  }
 },
 "nbformat": 4,
 "nbformat_minor": 5
}
