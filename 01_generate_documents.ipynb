{
 "cells": [
  {
   "cell_type": "code",
   "execution_count": 1,
   "id": "b2eb3eba",
   "metadata": {},
   "outputs": [],
   "source": [
    "from langchain_community.document_loaders import PyMuPDFLoader\n",
    "from langchain.schema import Document\n",
    "import pandas as pd\n",
    "import requests\n",
    "import tempfile\n",
    "from tqdm import tqdm_notebook"
   ]
  },
  {
   "cell_type": "code",
   "execution_count": 2,
   "id": "9ea3db8e",
   "metadata": {},
   "outputs": [
    {
     "data": {
      "text/plain": [
       "(4339, 6)"
      ]
     },
     "execution_count": 2,
     "metadata": {},
     "output_type": "execute_result"
    }
   ],
   "source": [
    "fallos_df = pd.read_csv('data/fallos.csv')\n",
    "fallos_df.shape"
   ]
  },
  {
   "cell_type": "code",
   "execution_count": 3,
   "id": "653cc583",
   "metadata": {},
   "outputs": [
    {
     "name": "stderr",
     "output_type": "stream",
     "text": [
      "/var/folders/pg/nt5xcr_n6rd6qh7kjj9bnkpr0000gp/T/ipykernel_17118/2591784553.py:3: TqdmDeprecationWarning: This function will be removed in tqdm==5.0.0\n",
      "Please use `tqdm.notebook.tqdm` instead of `tqdm.tqdm_notebook`\n",
      "  for idx, row in tqdm_notebook(fallos_df.iterrows()):\n"
     ]
    },
    {
     "data": {
      "application/vnd.jupyter.widget-view+json": {
       "model_id": "dd5a9f4d4acd46fa9f5f00d8c51e3881",
       "version_major": 2,
       "version_minor": 0
      },
      "text/plain": [
       "0it [00:00, ?it/s]"
      ]
     },
     "metadata": {},
     "output_type": "display_data"
    }
   ],
   "source": [
    "all_docs = []\n",
    "\n",
    "for idx, row in tqdm_notebook(fallos_df.iterrows()):\n",
    "\n",
    "    response = requests.get(row['DownloadURL'])\n",
    "    \n",
    "    with tempfile.NamedTemporaryFile(suffix='.pdf') as tmp_file:\n",
    "        tmp_file.write(response.content)\n",
    "        tmp_file.flush()\n",
    "\n",
    "        # Extraemos los documentos con PyMuPDF\n",
    "        loader = PyMuPDFLoader(tmp_file.name)\n",
    "        docs = loader.load()\n",
    "\n",
    "        # Le agregamos los metadatos personalizados\n",
    "        for doc in docs:\n",
    "            doc.metadata.update({\n",
    "                \"Tribunal\": row[\"Tribunal\"],\n",
    "                \"Expediente\": row[\"Expediente N°\"],\n",
    "                \"Caratula\": row[\"Carátula\"],\n",
    "                \"FechaSentencia\": row[\"Fecha de sentencia\"],\n",
    "                \"Sala\": row[\"Sala\"]\n",
    "            })\n",
    "\n",
    "            all_docs.append(doc)"
   ]
  },
  {
   "cell_type": "code",
   "execution_count": 37,
   "id": "20c83f54",
   "metadata": {},
   "outputs": [],
   "source": [
    "import json\n",
    "\n",
    "with open(\"./data/documents_fallos.jsonl\", \"w\", encoding=\"utf-8\") as f:\n",
    "    for doc in all_docs:\n",
    "        f.write(json.dumps({\n",
    "            \"page_content\": doc.page_content,\n",
    "            \"metadata\": doc.metadata\n",
    "        }, ensure_ascii=False) + \"\\n\")\n"
   ]
  },
  {
   "cell_type": "code",
   "execution_count": null,
   "id": "ba71036c",
   "metadata": {},
   "outputs": [],
   "source": []
  }
 ],
 "metadata": {
  "kernelspec": {
   "display_name": ".lawyer-agent-venv",
   "language": "python",
   "name": "python3"
  },
  "language_info": {
   "codemirror_mode": {
    "name": "ipython",
    "version": 3
   },
   "file_extension": ".py",
   "mimetype": "text/x-python",
   "name": "python",
   "nbconvert_exporter": "python",
   "pygments_lexer": "ipython3",
   "version": "3.12.3"
  }
 },
 "nbformat": 4,
 "nbformat_minor": 5
}
